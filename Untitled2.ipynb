{
  "nbformat": 4,
  "nbformat_minor": 0,
  "metadata": {
    "colab": {
      "provenance": [],
      "authorship_tag": "ABX9TyMDHFXbD9THpZ9ggfIj24qQ",
      "include_colab_link": true
    },
    "kernelspec": {
      "name": "python3",
      "display_name": "Python 3"
    },
    "language_info": {
      "name": "python"
    }
  },
  "cells": [
    {
      "cell_type": "markdown",
      "metadata": {
        "id": "view-in-github",
        "colab_type": "text"
      },
      "source": [
        "<a href=\"https://colab.research.google.com/github/DearFlavio/LP-AVA.FINAL/blob/main/Untitled2.ipynb\" target=\"_parent\"><img src=\"https://colab.research.google.com/assets/colab-badge.svg\" alt=\"Open In Colab\"/></a>"
      ]
    },
    {
      "cell_type": "code",
      "source": [
        "import pandas as pd\n",
        "\n",
        "\n",
        "\n",
        "\n",
        "print(dados.head()Pasta1.csv)\n",
        "\n",
        "\n",
        "print('Número de linhas:', dados.shape[0])\n",
        "print('Número de colunas:', dados.shape[1])\n",
        "\n",
        "\n",
        "print(dados.describe())\n",
        "\n",
        "\n",
        "media = dados['nome_da_coluna'].mean()\n",
        "print('Média:', media)\n",
        "\n",
        "\n",
        "mediana = dados['nome_da_coluna'].median()\n",
        "print('Mediana:', mediana)\n",
        "\n",
        "\n",
        "moda = dados['nome_da_coluna'].mode()\n",
        "print('Moda:', moda)\n",
        "\n",
        "\n",
        "correlacao = dados['nome_da_coluna1'].corr(dados['nome_da_coluna2'])\n",
        "print('Correlação:', correlacao)"
      ],
      "metadata": {
        "colab": {
          "base_uri": "https://localhost:8080/",
          "height": 130
        },
        "id": "zclACTS8D7LO",
        "outputId": "34fc7d49-11bc-4048-e622-ee7a7503acac"
      },
      "execution_count": 3,
      "outputs": [
        {
          "output_type": "error",
          "ename": "SyntaxError",
          "evalue": "ignored",
          "traceback": [
            "\u001b[0;36m  File \u001b[0;32m\"<ipython-input-3-5308a5ccd318>\"\u001b[0;36m, line \u001b[0;32m6\u001b[0m\n\u001b[0;31m    print (dados.head()Pasta1.csv)\u001b[0m\n\u001b[0m           ^\u001b[0m\n\u001b[0;31mSyntaxError\u001b[0m\u001b[0;31m:\u001b[0m invalid syntax. Perhaps you forgot a comma?\n"
          ]
        }
      ]
    }
  ]
}